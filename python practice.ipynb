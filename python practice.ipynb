{
 "cells": [
  {
   "cell_type": "code",
   "execution_count": 4,
   "id": "f2610284",
   "metadata": {},
   "outputs": [
    {
     "data": {
      "text/plain": [
       "False"
      ]
     },
     "execution_count": 4,
     "metadata": {},
     "output_type": "execute_result"
    }
   ],
   "source": [
    "my_str=\"bhakti kulkarni\"\n",
    "\n",
    "my_str.isalnum()\n"
   ]
  },
  {
   "cell_type": "code",
   "execution_count": 5,
   "id": "17eec61c",
   "metadata": {},
   "outputs": [
    {
     "data": {
      "text/plain": [
       "False"
      ]
     },
     "execution_count": 5,
     "metadata": {},
     "output_type": "execute_result"
    }
   ],
   "source": [
    "my_str.istitle()\n"
   ]
  },
  {
   "cell_type": "code",
   "execution_count": 6,
   "id": "eafa50bb",
   "metadata": {},
   "outputs": [
    {
     "data": {
      "text/plain": [
       "list"
      ]
     },
     "execution_count": 6,
     "metadata": {},
     "output_type": "execute_result"
    }
   ],
   "source": [
    "type([])"
   ]
  },
  {
   "cell_type": "code",
   "execution_count": 8,
   "id": "fb3eb3e6",
   "metadata": {},
   "outputs": [
    {
     "data": {
      "text/plain": [
       "list"
      ]
     },
     "execution_count": 8,
     "metadata": {},
     "output_type": "execute_result"
    }
   ],
   "source": [
    "lst=list()\n",
    "type(lst)"
   ]
  },
  {
   "cell_type": "code",
   "execution_count": 9,
   "id": "cdcc0fda",
   "metadata": {},
   "outputs": [
    {
     "data": {
      "text/plain": [
       "'bhakri'"
      ]
     },
     "execution_count": 9,
     "metadata": {},
     "output_type": "execute_result"
    }
   ],
   "source": [
    "lst=[120,'bhakri','chapati',234]\n",
    "lst[1]"
   ]
  },
  {
   "cell_type": "code",
   "execution_count": 10,
   "id": "51bfd7bf",
   "metadata": {},
   "outputs": [],
   "source": [
    "lst.append(123)\n"
   ]
  },
  {
   "cell_type": "code",
   "execution_count": 12,
   "id": "6690c9df",
   "metadata": {},
   "outputs": [
    {
     "data": {
      "text/plain": [
       "[120, 'bhakri', 'chapati', 234, 123]"
      ]
     },
     "execution_count": 12,
     "metadata": {},
     "output_type": "execute_result"
    }
   ],
   "source": [
    "lst\n"
   ]
  },
  {
   "cell_type": "code",
   "execution_count": 13,
   "id": "072419ee",
   "metadata": {},
   "outputs": [
    {
     "data": {
      "text/plain": [
       "[120, 'bhakri', 'chapati', 234, 123]"
      ]
     },
     "execution_count": 13,
     "metadata": {},
     "output_type": "execute_result"
    }
   ],
   "source": [
    "lst[:]"
   ]
  },
  {
   "cell_type": "code",
   "execution_count": 16,
   "id": "ff65286d",
   "metadata": {},
   "outputs": [
    {
     "data": {
      "text/plain": [
       "['bhakri', 'chapati', 234, 123]"
      ]
     },
     "execution_count": 16,
     "metadata": {},
     "output_type": "execute_result"
    }
   ],
   "source": [
    "lst[1:7]"
   ]
  },
  {
   "cell_type": "code",
   "execution_count": 18,
   "id": "beffc36f",
   "metadata": {},
   "outputs": [],
   "source": [
    "lst.append([123,456])"
   ]
  },
  {
   "cell_type": "code",
   "execution_count": 19,
   "id": "73bf058b",
   "metadata": {},
   "outputs": [
    {
     "data": {
      "text/plain": [
       "[120, 'bhakri', 'chapati', 234, 123, [123, 456]]"
      ]
     },
     "execution_count": 19,
     "metadata": {},
     "output_type": "execute_result"
    }
   ],
   "source": [
    "lst"
   ]
  },
  {
   "cell_type": "code",
   "execution_count": 20,
   "id": "ced10acc",
   "metadata": {},
   "outputs": [],
   "source": [
    "lst.insert(4,565)"
   ]
  },
  {
   "cell_type": "code",
   "execution_count": 21,
   "id": "9d6a31f9",
   "metadata": {},
   "outputs": [
    {
     "data": {
      "text/plain": [
       "[120, 'bhakri', 'chapati', 234, 565, 123, [123, 456]]"
      ]
     },
     "execution_count": 21,
     "metadata": {},
     "output_type": "execute_result"
    }
   ],
   "source": [
    "lst\n"
   ]
  },
  {
   "cell_type": "code",
   "execution_count": 24,
   "id": "d5ba3c95",
   "metadata": {},
   "outputs": [],
   "source": [
    "lst.extend(['bha','tga'])"
   ]
  },
  {
   "cell_type": "code",
   "execution_count": 25,
   "id": "db8f6203",
   "metadata": {},
   "outputs": [
    {
     "data": {
      "text/plain": [
       "[120, 'bhakri', 'chapati', 234, 565, 123, [123, 456], 'bha', 'tga']"
      ]
     },
     "execution_count": 25,
     "metadata": {},
     "output_type": "execute_result"
    }
   ],
   "source": [
    "lst\n"
   ]
  },
  {
   "cell_type": "code",
   "execution_count": 26,
   "id": "a318a8be",
   "metadata": {},
   "outputs": [
    {
     "data": {
      "text/plain": [
       "9"
      ]
     },
     "execution_count": 26,
     "metadata": {},
     "output_type": "execute_result"
    }
   ],
   "source": [
    "pst=[1,2,2,2,2,]\n",
    "sum(pst)"
   ]
  },
  {
   "cell_type": "code",
   "execution_count": 27,
   "id": "7aa562e3",
   "metadata": {},
   "outputs": [
    {
     "data": {
      "text/plain": [
       "2"
      ]
     },
     "execution_count": 27,
     "metadata": {},
     "output_type": "execute_result"
    }
   ],
   "source": [
    "pst.pop()"
   ]
  },
  {
   "cell_type": "code",
   "execution_count": 28,
   "id": "78a61049",
   "metadata": {},
   "outputs": [
    {
     "data": {
      "text/plain": [
       "[120, 'bhakri', 'chapati', 234, 565, 123, [123, 456], 'bha', 'tga']"
      ]
     },
     "execution_count": 28,
     "metadata": {},
     "output_type": "execute_result"
    }
   ],
   "source": [
    "lst"
   ]
  },
  {
   "cell_type": "code",
   "execution_count": 29,
   "id": "b36fa5d4",
   "metadata": {},
   "outputs": [
    {
     "data": {
      "text/plain": [
       "[1, 2, 2, 2]"
      ]
     },
     "execution_count": 29,
     "metadata": {},
     "output_type": "execute_result"
    }
   ],
   "source": [
    "pst"
   ]
  },
  {
   "cell_type": "code",
   "execution_count": 30,
   "id": "b0ca2316",
   "metadata": {},
   "outputs": [
    {
     "data": {
      "text/plain": [
       "1"
      ]
     },
     "execution_count": 30,
     "metadata": {},
     "output_type": "execute_result"
    }
   ],
   "source": [
    "pst.pop(0)"
   ]
  },
  {
   "cell_type": "code",
   "execution_count": 34,
   "id": "5c72a4aa",
   "metadata": {},
   "outputs": [
    {
     "data": {
      "text/plain": [
       "3"
      ]
     },
     "execution_count": 34,
     "metadata": {},
     "output_type": "execute_result"
    }
   ],
   "source": [
    "pst.count(2)"
   ]
  },
  {
   "cell_type": "code",
   "execution_count": 35,
   "id": "d7279cc3",
   "metadata": {},
   "outputs": [
    {
     "data": {
      "text/plain": [
       "3"
      ]
     },
     "execution_count": 35,
     "metadata": {},
     "output_type": "execute_result"
    }
   ],
   "source": [
    "len(pst)"
   ]
  },
  {
   "cell_type": "code",
   "execution_count": 42,
   "id": "79ca114a",
   "metadata": {},
   "outputs": [
    {
     "data": {
      "text/plain": [
       "1"
      ]
     },
     "execution_count": 42,
     "metadata": {},
     "output_type": "execute_result"
    }
   ],
   "source": [
    "pst.index(2,1,2)"
   ]
  },
  {
   "cell_type": "code",
   "execution_count": 43,
   "id": "aee3e21b",
   "metadata": {},
   "outputs": [],
   "source": [
    "lst1=[45,56,78,89,34]"
   ]
  },
  {
   "cell_type": "code",
   "execution_count": 55,
   "id": "80693345",
   "metadata": {},
   "outputs": [
    {
     "ename": "ValueError",
     "evalue": "45 is not in list",
     "output_type": "error",
     "traceback": [
      "\u001b[0;31m---------------------------------------------------------------------------\u001b[0m",
      "\u001b[0;31mValueError\u001b[0m                                Traceback (most recent call last)",
      "\u001b[0;32m<ipython-input-55-dec369cd72a4>\u001b[0m in \u001b[0;36m<module>\u001b[0;34m\u001b[0m\n\u001b[0;32m----> 1\u001b[0;31m \u001b[0mlst1\u001b[0m\u001b[0;34m.\u001b[0m\u001b[0mindex\u001b[0m\u001b[0;34m(\u001b[0m\u001b[0;36m45\u001b[0m\u001b[0;34m,\u001b[0m\u001b[0;36m56\u001b[0m\u001b[0;34m,\u001b[0m\u001b[0;36m34\u001b[0m\u001b[0;34m)\u001b[0m\u001b[0;34m\u001b[0m\u001b[0;34m\u001b[0m\u001b[0m\n\u001b[0m",
      "\u001b[0;31mValueError\u001b[0m: 45 is not in list"
     ]
    }
   ],
   "source": [
    "lst1.index(45)"
   ]
  },
  {
   "cell_type": "code",
   "execution_count": 56,
   "id": "553ca27d",
   "metadata": {},
   "outputs": [
    {
     "data": {
      "text/plain": [
       "34"
      ]
     },
     "execution_count": 56,
     "metadata": {},
     "output_type": "execute_result"
    }
   ],
   "source": [
    "min(lst1)"
   ]
  },
  {
   "cell_type": "code",
   "execution_count": 57,
   "id": "5fd3c101",
   "metadata": {},
   "outputs": [
    {
     "data": {
      "text/plain": [
       "89"
      ]
     },
     "execution_count": 57,
     "metadata": {},
     "output_type": "execute_result"
    }
   ],
   "source": [
    "max(lst1)"
   ]
  },
  {
   "cell_type": "code",
   "execution_count": 58,
   "id": "5bc219dd",
   "metadata": {},
   "outputs": [
    {
     "data": {
      "text/plain": [
       "[45, 56, 78, 89, 34, 45, 56, 78, 89, 34]"
      ]
     },
     "execution_count": 58,
     "metadata": {},
     "output_type": "execute_result"
    }
   ],
   "source": [
    "lst1*2\n"
   ]
  },
  {
   "cell_type": "code",
   "execution_count": 59,
   "id": "42ac903b",
   "metadata": {},
   "outputs": [
    {
     "data": {
      "text/plain": [
       "[45, 56, 78, 89, 34]"
      ]
     },
     "execution_count": 59,
     "metadata": {},
     "output_type": "execute_result"
    }
   ],
   "source": [
    "lst1\n"
   ]
  },
  {
   "cell_type": "code",
   "execution_count": 60,
   "id": "7f1e069e",
   "metadata": {},
   "outputs": [
    {
     "name": "stdout",
     "output_type": "stream",
     "text": [
      "[45, 56, 78, 89, 34]\n"
     ]
    }
   ],
   "source": [
    "print(lst1)"
   ]
  },
  {
   "cell_type": "code",
   "execution_count": 61,
   "id": "a6c8dd44",
   "metadata": {},
   "outputs": [
    {
     "data": {
      "text/plain": [
       "set"
      ]
     },
     "execution_count": 61,
     "metadata": {},
     "output_type": "execute_result"
    }
   ],
   "source": [
    "set_var=set()\n",
    "type(set_var)"
   ]
  },
  {
   "cell_type": "code",
   "execution_count": 62,
   "id": "c3305bcb",
   "metadata": {},
   "outputs": [],
   "source": [
    "set_var={\"bhakti\",\"ashwin\",\"kavya\",\"kavya\"}"
   ]
  },
  {
   "cell_type": "code",
   "execution_count": 63,
   "id": "f1c315fa",
   "metadata": {},
   "outputs": [
    {
     "data": {
      "text/plain": [
       "{'ashwin', 'bhakti', 'kavya'}"
      ]
     },
     "execution_count": 63,
     "metadata": {},
     "output_type": "execute_result"
    }
   ],
   "source": [
    "set_var"
   ]
  },
  {
   "cell_type": "code",
   "execution_count": 64,
   "id": "3983180b",
   "metadata": {},
   "outputs": [],
   "source": [
    "set_var.add(5)"
   ]
  },
  {
   "cell_type": "code",
   "execution_count": 65,
   "id": "c91f59fb",
   "metadata": {},
   "outputs": [
    {
     "data": {
      "text/plain": [
       "{5, 'ashwin', 'bhakti', 'kavya'}"
      ]
     },
     "execution_count": 65,
     "metadata": {},
     "output_type": "execute_result"
    }
   ],
   "source": [
    "set_var\n"
   ]
  },
  {
   "cell_type": "code",
   "execution_count": 67,
   "id": "1a55400a",
   "metadata": {},
   "outputs": [
    {
     "data": {
      "text/plain": [
       "{1}"
      ]
     },
     "execution_count": 67,
     "metadata": {},
     "output_type": "execute_result"
    }
   ],
   "source": [
    "set1={1,2,3,4}\n",
    "set2={2,3,4,5,6}\n",
    "set1.difference(set2)"
   ]
  },
  {
   "cell_type": "code",
   "execution_count": 73,
   "id": "0b51394b",
   "metadata": {},
   "outputs": [],
   "source": [
    "set2.difference_update(set1)"
   ]
  },
  {
   "cell_type": "code",
   "execution_count": 74,
   "id": "ef2174f0",
   "metadata": {},
   "outputs": [
    {
     "data": {
      "text/plain": [
       "{1}"
      ]
     },
     "execution_count": 74,
     "metadata": {},
     "output_type": "execute_result"
    }
   ],
   "source": [
    "set1\n"
   ]
  },
  {
   "cell_type": "code",
   "execution_count": 75,
   "id": "789a4eec",
   "metadata": {},
   "outputs": [
    {
     "data": {
      "text/plain": [
       "{2, 3, 4, 5, 6}"
      ]
     },
     "execution_count": 75,
     "metadata": {},
     "output_type": "execute_result"
    }
   ],
   "source": [
    "set2"
   ]
  },
  {
   "cell_type": "markdown",
   "id": "f8d14ed8",
   "metadata": {},
   "source": [
    "set1\n"
   ]
  },
  {
   "cell_type": "code",
   "execution_count": 76,
   "id": "0dc849b5",
   "metadata": {},
   "outputs": [
    {
     "data": {
      "text/plain": [
       "{1}"
      ]
     },
     "execution_count": 76,
     "metadata": {},
     "output_type": "execute_result"
    }
   ],
   "source": [
    "set1"
   ]
  },
  {
   "cell_type": "code",
   "execution_count": 77,
   "id": "9b155191",
   "metadata": {},
   "outputs": [
    {
     "data": {
      "text/plain": [
       "{2, 3, 4, 5, 6}"
      ]
     },
     "execution_count": 77,
     "metadata": {},
     "output_type": "execute_result"
    }
   ],
   "source": [
    "set2"
   ]
  },
  {
   "cell_type": "code",
   "execution_count": 80,
   "id": "243a84e3",
   "metadata": {},
   "outputs": [],
   "source": [
    "set2.difference_update(set1)\n"
   ]
  },
  {
   "cell_type": "code",
   "execution_count": 79,
   "id": "e71a0a0c",
   "metadata": {},
   "outputs": [
    {
     "data": {
      "text/plain": [
       "{1}"
      ]
     },
     "execution_count": 79,
     "metadata": {},
     "output_type": "execute_result"
    }
   ],
   "source": [
    "set1"
   ]
  },
  {
   "cell_type": "code",
   "execution_count": 81,
   "id": "a102520e",
   "metadata": {},
   "outputs": [],
   "source": [
    "set2.difference_update(set1)"
   ]
  },
  {
   "cell_type": "code",
   "execution_count": 82,
   "id": "4d1667fd",
   "metadata": {},
   "outputs": [],
   "source": [
    "set3={1,2,3,4}\n",
    "set4={2,3,4,5,6}\n",
    "set4.difference_update(set3)"
   ]
  },
  {
   "cell_type": "code",
   "execution_count": 83,
   "id": "50a6e501",
   "metadata": {},
   "outputs": [
    {
     "data": {
      "text/plain": [
       "{5, 6}"
      ]
     },
     "execution_count": 83,
     "metadata": {},
     "output_type": "execute_result"
    }
   ],
   "source": [
    "set4\n"
   ]
  },
  {
   "cell_type": "code",
   "execution_count": 84,
   "id": "73d8cb1b",
   "metadata": {},
   "outputs": [
    {
     "data": {
      "text/plain": [
       "{1, 2, 3, 4}"
      ]
     },
     "execution_count": 84,
     "metadata": {},
     "output_type": "execute_result"
    }
   ],
   "source": [
    "set3"
   ]
  },
  {
   "cell_type": "code",
   "execution_count": 96,
   "id": "21acfcce",
   "metadata": {},
   "outputs": [],
   "source": [
    "set5={1,2,3,6}\n",
    "set6={2,3,4,5}\n",
    "set5.difference_update(set6)"
   ]
  },
  {
   "cell_type": "code",
   "execution_count": 97,
   "id": "e21897eb",
   "metadata": {},
   "outputs": [
    {
     "data": {
      "text/plain": [
       "{1, 6}"
      ]
     },
     "execution_count": 97,
     "metadata": {},
     "output_type": "execute_result"
    }
   ],
   "source": [
    "set5\n"
   ]
  },
  {
   "cell_type": "code",
   "execution_count": 122,
   "id": "ac0467b6",
   "metadata": {},
   "outputs": [],
   "source": [
    "set6.add(12)"
   ]
  },
  {
   "cell_type": "code",
   "execution_count": 120,
   "id": "5dcbd1e6",
   "metadata": {},
   "outputs": [
    {
     "data": {
      "text/plain": [
       "{3, 4, 5, 7, 12}"
      ]
     },
     "execution_count": 120,
     "metadata": {},
     "output_type": "execute_result"
    }
   ],
   "source": [
    "set6"
   ]
  },
  {
   "cell_type": "code",
   "execution_count": 100,
   "id": "f5ae6a41",
   "metadata": {},
   "outputs": [
    {
     "data": {
      "text/plain": [
       "{3, 5}"
      ]
     },
     "execution_count": 100,
     "metadata": {},
     "output_type": "execute_result"
    }
   ],
   "source": [
    "set5={2,3,5,6}\n",
    "set6={3,4,5,7}\n",
    "set6.intersection(set5)"
   ]
  },
  {
   "cell_type": "code",
   "execution_count": 104,
   "id": "e51c56de",
   "metadata": {},
   "outputs": [],
   "source": [
    "u_dict={\"car1\":\"oddy\",\"car2\":\"mercedes\",\"car3\":\"hundai\"}"
   ]
  },
  {
   "cell_type": "code",
   "execution_count": 105,
   "id": "38b2b572",
   "metadata": {},
   "outputs": [
    {
     "data": {
      "text/plain": [
       "dict"
      ]
     },
     "execution_count": 105,
     "metadata": {},
     "output_type": "execute_result"
    }
   ],
   "source": [
    "type(u_dict)"
   ]
  },
  {
   "cell_type": "code",
   "execution_count": 107,
   "id": "bfcb6386",
   "metadata": {},
   "outputs": [
    {
     "data": {
      "text/plain": [
       "'oddy'"
      ]
     },
     "execution_count": 107,
     "metadata": {},
     "output_type": "execute_result"
    }
   ],
   "source": [
    "u_dict['car1']"
   ]
  },
  {
   "cell_type": "code",
   "execution_count": 108,
   "id": "235d793b",
   "metadata": {},
   "outputs": [
    {
     "name": "stdout",
     "output_type": "stream",
     "text": [
      "car1\n",
      "car2\n",
      "car3\n"
     ]
    }
   ],
   "source": [
    "for x in u_dict:\n",
    "    print(x)"
   ]
  },
  {
   "cell_type": "code",
   "execution_count": 111,
   "id": "6f73b46c",
   "metadata": {},
   "outputs": [
    {
     "name": "stdout",
     "output_type": "stream",
     "text": [
      "oddy\n",
      "mercedes\n",
      "hundai\n"
     ]
    }
   ],
   "source": [
    "for x in u_dict.values():\n",
    "    print(x)"
   ]
  },
  {
   "cell_type": "code",
   "execution_count": 112,
   "id": "d85ca1db",
   "metadata": {},
   "outputs": [
    {
     "name": "stdout",
     "output_type": "stream",
     "text": [
      "('car1', 'oddy')\n",
      "('car2', 'mercedes')\n",
      "('car3', 'hundai')\n"
     ]
    }
   ],
   "source": [
    "for x in u_dict.items():\n",
    "    print(x)"
   ]
  },
  {
   "cell_type": "code",
   "execution_count": 116,
   "id": "155335c7",
   "metadata": {},
   "outputs": [],
   "source": [
    "u_dict['car4']='maruti'"
   ]
  },
  {
   "cell_type": "code",
   "execution_count": 117,
   "id": "0b26fbb3",
   "metadata": {},
   "outputs": [
    {
     "data": {
      "text/plain": [
       "{'car1': 'oddy', 'car2': 'mercedes', 'car3': 'hundai', 'car4': 'maruti'}"
      ]
     },
     "execution_count": 117,
     "metadata": {},
     "output_type": "execute_result"
    }
   ],
   "source": [
    "u_dict\n"
   ]
  },
  {
   "cell_type": "code",
   "execution_count": 131,
   "id": "ce1048d3",
   "metadata": {},
   "outputs": [],
   "source": [
    "my_car1={'mercedes':1222}\n",
    "my_car2={'hundai':1991}"
   ]
  },
  {
   "cell_type": "code",
   "execution_count": 132,
   "id": "7b2a1276",
   "metadata": {},
   "outputs": [],
   "source": [
    "my_dict={'car1':my_car1,'car2':my_car2}"
   ]
  },
  {
   "cell_type": "code",
   "execution_count": 133,
   "id": "51ae78be",
   "metadata": {},
   "outputs": [
    {
     "data": {
      "text/plain": [
       "{'car1': {'mercedes': 1222}, 'car2': {'hundai': 1991}}"
      ]
     },
     "execution_count": 133,
     "metadata": {},
     "output_type": "execute_result"
    }
   ],
   "source": [
    "my_dict"
   ]
  },
  {
   "cell_type": "code",
   "execution_count": 134,
   "id": "403c9aa6",
   "metadata": {},
   "outputs": [
    {
     "data": {
      "text/plain": [
       "1222"
      ]
     },
     "execution_count": 134,
     "metadata": {},
     "output_type": "execute_result"
    }
   ],
   "source": [
    "my_dict['car1']['mercedes']"
   ]
  },
  {
   "cell_type": "code",
   "execution_count": 135,
   "id": "51fdee5f",
   "metadata": {},
   "outputs": [],
   "source": [
    "mytu=(2,3,3,4)"
   ]
  },
  {
   "cell_type": "code",
   "execution_count": 136,
   "id": "5b400390",
   "metadata": {},
   "outputs": [
    {
     "data": {
      "text/plain": [
       "(2, 3, 3, 4)"
      ]
     },
     "execution_count": 136,
     "metadata": {},
     "output_type": "execute_result"
    }
   ],
   "source": [
    "mytu\n"
   ]
  },
  {
   "cell_type": "code",
   "execution_count": 137,
   "id": "719be647",
   "metadata": {},
   "outputs": [
    {
     "data": {
      "text/plain": [
       "tuple"
      ]
     },
     "execution_count": 137,
     "metadata": {},
     "output_type": "execute_result"
    }
   ],
   "source": [
    "type(mytu)"
   ]
  },
  {
   "cell_type": "code",
   "execution_count": 142,
   "id": "5084192a",
   "metadata": {},
   "outputs": [
    {
     "data": {
      "text/plain": [
       "1"
      ]
     },
     "execution_count": 142,
     "metadata": {},
     "output_type": "execute_result"
    }
   ],
   "source": [
    "mytu.count(4)"
   ]
  },
  {
   "cell_type": "code",
   "execution_count": 144,
   "id": "63b41f39",
   "metadata": {},
   "outputs": [
    {
     "data": {
      "text/plain": [
       "3"
      ]
     },
     "execution_count": 144,
     "metadata": {},
     "output_type": "execute_result"
    }
   ],
   "source": [
    "mytu.index(4)"
   ]
  },
  {
   "cell_type": "code",
   "execution_count": null,
   "id": "f0df64fa",
   "metadata": {},
   "outputs": [],
   "source": []
  }
 ],
 "metadata": {
  "kernelspec": {
   "display_name": "Python 3",
   "language": "python",
   "name": "python3"
  },
  "language_info": {
   "codemirror_mode": {
    "name": "ipython",
    "version": 3
   },
   "file_extension": ".py",
   "mimetype": "text/x-python",
   "name": "python",
   "nbconvert_exporter": "python",
   "pygments_lexer": "ipython3",
   "version": "3.8.8"
  }
 },
 "nbformat": 4,
 "nbformat_minor": 5
}
